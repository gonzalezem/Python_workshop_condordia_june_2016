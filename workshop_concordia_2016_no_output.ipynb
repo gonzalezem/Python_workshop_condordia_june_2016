{
 "cells": [
  {
   "cell_type": "code",
   "execution_count": null,
   "metadata": {
    "collapsed": true
   },
   "outputs": [],
   "source": [
    "import pandas as pd\n",
    "from pandas import *\n",
    "#We could see it easier with a graph\n",
    "# first we need other libraries to make plots possible:\n",
    "import matplotlib #the main library\n",
    "import matplotlib.pyplot as plt  #a shortcut that we define as plt\n",
    "\n",
    "#So ipython notebook can display it\n",
    "%matplotlib inline \n",
    "#just a design line so the graphs look like R's ggplot\n",
    "#matplotlib.style.use('ggplot') \n",
    "\n",
    "pd.__version__\n",
    "\n",
    "#These 2 files are text files, but they're a cut and paste from Excel spreadsheets\n",
    "countfile=\"data/16S_Count_Table.txt\"\n",
    "conditions=\"data/16S_Conditions.txt\"\n",
    "counts = pd.read_csv(countfile, sep=\"\\t\")\n",
    "conds = pd.read_csv(conditions, sep=\"\\t\")"
   ]
  },
  {
   "cell_type": "code",
   "execution_count": null,
   "metadata": {
    "collapsed": true
   },
   "outputs": [],
   "source": [
    "#Look at content of the tables (5 first lines)\n",
    "counts.head()"
   ]
  },
  {
   "cell_type": "code",
   "execution_count": null,
   "metadata": {
    "collapsed": true
   },
   "outputs": [],
   "source": [
    "conds.head()"
   ]
  },
  {
   "cell_type": "code",
   "execution_count": null,
   "metadata": {
    "collapsed": true
   },
   "outputs": [],
   "source": [
    "#Let's rename counts Sample column to Samples\n",
    "counts = counts.rename(columns = {'Sample':'Samples'})\n",
    "counts.head(n=2)"
   ]
  },
  {
   "cell_type": "code",
   "execution_count": null,
   "metadata": {
    "collapsed": true
   },
   "outputs": [],
   "source": [
    "#check how pandas is seeing the tables\n",
    "type(counts)"
   ]
  },
  {
   "cell_type": "code",
   "execution_count": null,
   "metadata": {
    "collapsed": true
   },
   "outputs": [],
   "source": [
    "#Are there any other objects?\n",
    "mystring = \"Oh the sky is so blue today\"\n",
    "type(mystring)"
   ]
  },
  {
   "cell_type": "code",
   "execution_count": null,
   "metadata": {
    "collapsed": true
   },
   "outputs": [],
   "source": [
    "mynumbers = \"0,1\"\n",
    "type(mynumbers)"
   ]
  },
  {
   "cell_type": "code",
   "execution_count": null,
   "metadata": {
    "collapsed": true
   },
   "outputs": [],
   "source": [
    "mynumbers = [0,1]\n",
    "type(mynumbers)"
   ]
  },
  {
   "cell_type": "code",
   "execution_count": null,
   "metadata": {
    "collapsed": true
   },
   "outputs": [],
   "source": [
    "mynumbers = (0,1)\n",
    "type(mynumbers)"
   ]
  },
  {
   "cell_type": "code",
   "execution_count": null,
   "metadata": {
    "collapsed": true
   },
   "outputs": [],
   "source": [
    "#check how pandas is treating both tables\n",
    "type(counts)\n",
    "type(conds)"
   ]
  },
  {
   "cell_type": "code",
   "execution_count": null,
   "metadata": {
    "collapsed": true
   },
   "outputs": [],
   "source": [
    "#Only the last one appears. Use print to see what you want to see\n",
    "print type(counts)\n",
    "type(conds)"
   ]
  },
  {
   "cell_type": "code",
   "execution_count": null,
   "metadata": {
    "collapsed": true
   },
   "outputs": [],
   "source": [
    "#Let's have a more user friendly display\n",
    "print \"The count file is :\", type(counts)"
   ]
  },
  {
   "cell_type": "code",
   "execution_count": null,
   "metadata": {
    "collapsed": true
   },
   "outputs": [],
   "source": [
    "#Hum, we just want the DataFrame part.\n",
    "print \"The count file is :\", str(type(counts)).split(\".\")[-1] #-1 means the last object from the list"
   ]
  },
  {
   "cell_type": "code",
   "execution_count": null,
   "metadata": {
    "collapsed": true
   },
   "outputs": [],
   "source": [
    "#We don't want the last part\n",
    "print \"The count file is :\", str(type(counts)).split(\".\")[-1].split('\\'')[0]  #\\ is an escape character"
   ]
  },
  {
   "cell_type": "code",
   "execution_count": null,
   "metadata": {
    "collapsed": true
   },
   "outputs": [],
   "source": [
    "#Cool! Let's do it for both of them\n",
    "print \"The count file is :\", str(type(counts)).split(\".\")[-1].split('\\'')[0]\n",
    "print \"The condition file is :\", str(type(conds)).split(\".\")[-1].split('\\'')[0]"
   ]
  },
  {
   "cell_type": "code",
   "execution_count": null,
   "metadata": {
    "collapsed": true
   },
   "outputs": [],
   "source": [
    "#Let's check the shape of the count table:\n",
    "counts.shape"
   ]
  },
  {
   "cell_type": "code",
   "execution_count": null,
   "metadata": {
    "collapsed": true
   },
   "outputs": [],
   "source": [
    "#Fancier\n",
    "print \"Count table has:\"\n",
    "print counts.shape[0],\"rows\"\n",
    "print counts.shape[1],\"columns\""
   ]
  },
  {
   "cell_type": "code",
   "execution_count": null,
   "metadata": {
    "collapsed": true
   },
   "outputs": [],
   "source": [
    "#Display the column names\n",
    "counts.columns.values\n"
   ]
  },
  {
   "cell_type": "code",
   "execution_count": null,
   "metadata": {
    "collapsed": true
   },
   "outputs": [],
   "source": [
    "#put them in a list\n",
    "list(counts.columns.values)"
   ]
  },
  {
   "cell_type": "code",
   "execution_count": null,
   "metadata": {
    "collapsed": true
   },
   "outputs": [],
   "source": [
    "#how about row names? Our table if a table made of counts, but pandas reads it as a collection of columns\n",
    "counts[[0]].head()\n"
   ]
  },
  {
   "cell_type": "code",
   "execution_count": null,
   "metadata": {
    "collapsed": true
   },
   "outputs": [],
   "source": [
    "#another way of calling the first column:\n",
    "counts['Samples'].head()"
   ]
  },
  {
   "cell_type": "code",
   "execution_count": null,
   "metadata": {
    "collapsed": true
   },
   "outputs": [],
   "source": [
    "#How about looking at a particular cell: 3rd row, Samples column\n",
    "counts.loc[2, 'Samples']"
   ]
  },
  {
   "cell_type": "code",
   "execution_count": null,
   "metadata": {
    "collapsed": true
   },
   "outputs": [],
   "source": [
    "#More rows?\n",
    "counts.loc[2:5, 'Samples']"
   ]
  },
  {
   "cell_type": "code",
   "execution_count": null,
   "metadata": {
    "collapsed": true
   },
   "outputs": [],
   "source": [
    "#More columns?\n",
    "counts.loc[2:5, 'Samples':'Staphylococcus_aureus']"
   ]
  },
  {
   "cell_type": "code",
   "execution_count": null,
   "metadata": {
    "collapsed": true
   },
   "outputs": [],
   "source": [
    "#More selective?\n",
    "counts.loc[[0,2,4], ['Samples','Pseudomonas']]"
   ]
  },
  {
   "cell_type": "code",
   "execution_count": null,
   "metadata": {
    "collapsed": true
   },
   "outputs": [],
   "source": [
    "#Even more!\n",
    "counts.loc[counts['Pseudomonas'] > 5000 , ['Samples','Pseudomonas']]"
   ]
  },
  {
   "cell_type": "code",
   "execution_count": null,
   "metadata": {
    "collapsed": true
   },
   "outputs": [],
   "source": [
    "#We don't have to, but sometimes it is easier to specify that the first column are row names, i.e. index\n",
    "indexed_counts = counts.set_index(['Samples'])\n",
    "indexed_counts.head(n=3)"
   ]
  },
  {
   "cell_type": "code",
   "execution_count": null,
   "metadata": {
    "collapsed": true
   },
   "outputs": [],
   "source": [
    "#Pandas choose numbers as row names and calls it index. Each index number is unique, so each row is unique.\n",
    "#You can't have duplicates as index\n",
    "counts.index"
   ]
  },
  {
   "cell_type": "code",
   "execution_count": null,
   "metadata": {
    "collapsed": true
   },
   "outputs": [],
   "source": [
    "###########################################################################################################################\n",
    "###########################################################################################################################\n",
    "###########################################################################################################################"
   ]
  },
  {
   "cell_type": "code",
   "execution_count": null,
   "metadata": {
    "collapsed": true
   },
   "outputs": [],
   "source": [
    "#Let's look at the other table:\n",
    "conds.head()\n"
   ]
  },
  {
   "cell_type": "code",
   "execution_count": null,
   "metadata": {
    "collapsed": true
   },
   "outputs": [],
   "source": [
    "#How many patient in total? Several methods:\n",
    "len(conds)  #size of the dataframe\n"
   ]
  },
  {
   "cell_type": "code",
   "execution_count": null,
   "metadata": {
    "collapsed": true
   },
   "outputs": [],
   "source": [
    "#each row has 2 patients so we just have to divide by 2:\n",
    "print \"The number of patients is:\", len(conds)/2"
   ]
  },
  {
   "cell_type": "code",
   "execution_count": null,
   "metadata": {
    "collapsed": true
   },
   "outputs": [],
   "source": [
    "#This method is a leap of faith: Are we sure there is a patient every 2 rows?\n",
    "#let's checck the end of the dataframe:\n",
    "conds.tail()"
   ]
  },
  {
   "cell_type": "code",
   "execution_count": null,
   "metadata": {
    "collapsed": true
   },
   "outputs": [],
   "source": [
    "#We still see 2 patients per row, but the table seems to suggest we have 33 patients.\n",
    "#This method was not safe. Let's try another one:\n",
    "#Display the content of the column Patient\n",
    "conds[\"Patient\"]"
   ]
  },
  {
   "cell_type": "code",
   "execution_count": null,
   "metadata": {
    "collapsed": true
   },
   "outputs": [],
   "source": [
    "#we have 48 rows and a patient each 2 lines\n",
    "#this method is tedious. Imagine we have 100s of lines\n",
    "#I'll repeat this one but I'll remove the duplicates\n",
    "conds.Patient.drop_duplicates() #or conds[\"Patient\"].drop_duplicates()\n"
   ]
  },
  {
   "cell_type": "code",
   "execution_count": null,
   "metadata": {
    "collapsed": true
   },
   "outputs": [],
   "source": [
    "#We see it better, but we have to count the number of lines, which again is tedious.\n",
    "#Now let's count the column length once we removed the duplicates\n",
    "print \"The number of patients is:\", len(conds[\"Patient\"].drop_duplicates())"
   ]
  },
  {
   "cell_type": "code",
   "execution_count": null,
   "metadata": {
    "collapsed": true
   },
   "outputs": [],
   "source": [
    "#Let's take a look at the conditions again\n",
    "conds.head()"
   ]
  },
  {
   "cell_type": "code",
   "execution_count": null,
   "metadata": {
    "collapsed": true
   },
   "outputs": [],
   "source": [
    "#How many categories do we have in Cavities column:\n",
    "conds.Cavities.drop_duplicates()"
   ]
  },
  {
   "cell_type": "code",
   "execution_count": null,
   "metadata": {
    "collapsed": true
   },
   "outputs": [],
   "source": [
    "#Only 2: cavities and No_cavities\n",
    "#How many patients have cavities?\n",
    "conds[\"Cavities\"] == \"cavities\" #OR conds.Cavities == \"cavities\""
   ]
  },
  {
   "cell_type": "code",
   "execution_count": null,
   "metadata": {
    "collapsed": true
   },
   "outputs": [],
   "source": [
    "#it works, but not user friendly again.\n",
    "len(conds.Cavities == \"cavities\")"
   ]
  },
  {
   "cell_type": "code",
   "execution_count": null,
   "metadata": {
    "collapsed": true
   },
   "outputs": [],
   "source": [
    "#that one doesn't work and is quite misleading. \n",
    "# == sign is calling for a True False answer\n",
    "#Now we want to count how  many lines have a \"cavities\" entry\n",
    "#Let's first extract a new dataframe with only the cavities entries\n",
    "conds[conds[\"Cavities\"] == \"cavities\"]"
   ]
  },
  {
   "cell_type": "code",
   "execution_count": null,
   "metadata": {
    "collapsed": true
   },
   "outputs": [],
   "source": [
    "#Now we don't want to count 2 times a patient\n",
    "#Note: the index is still the same as in the main dataframe\n",
    "#We'll repeat the same command, but we'll remove duplicates\n",
    "conds[conds[\"Cavities\"] == \"cavities\"].drop_duplicates('Patient')"
   ]
  },
  {
   "cell_type": "code",
   "execution_count": null,
   "metadata": {
    "collapsed": true
   },
   "outputs": [],
   "source": [
    "#We just have to add commands separated by \".\" to make successive commands\n",
    "len(conds[conds[\"Cavities\"] == \"cavities\"].drop_duplicates('Patient'))"
   ]
  },
  {
   "cell_type": "code",
   "execution_count": null,
   "metadata": {
    "collapsed": true
   },
   "outputs": [],
   "source": [
    "#We have 17 patients with cavities and ... 7 without? (24 patients in total)\n",
    "len(conds[conds[\"Cavities\"] == \"No_cavities\"].drop_duplicates('Patient'))"
   ]
  },
  {
   "cell_type": "code",
   "execution_count": null,
   "metadata": {
    "collapsed": true
   },
   "outputs": [],
   "source": [
    "#A last but better and more powerful method: the groupby() function \n",
    "len(conds.groupby(\"Cavities\"))"
   ]
  },
  {
   "cell_type": "code",
   "execution_count": null,
   "metadata": {
    "collapsed": true
   },
   "outputs": [],
   "source": [
    "#That means we have 2 categories. Indeed: cavities and No_cavities\n",
    "#grouby splits the dataframe and create a groupby object\n",
    "grouped = conds.groupby(\"Cavities\")\n",
    "type(grouped)"
   ]
  },
  {
   "cell_type": "code",
   "execution_count": null,
   "metadata": {
    "collapsed": true
   },
   "outputs": [],
   "source": [
    "#We can look into a groupby object with first and last\n",
    "grouped.first()"
   ]
  },
  {
   "cell_type": "code",
   "execution_count": null,
   "metadata": {
    "collapsed": true
   },
   "outputs": [],
   "source": [
    "grouped.last()"
   ]
  },
  {
   "cell_type": "code",
   "execution_count": null,
   "metadata": {
    "collapsed": true
   },
   "outputs": [],
   "source": [
    "#The sum() function will add all values in columns for each group name\n",
    "grouped.sum()"
   ]
  },
  {
   "cell_type": "code",
   "execution_count": null,
   "metadata": {
    "collapsed": true
   },
   "outputs": [],
   "source": [
    "#See what the groups are made of\n",
    "grouped.groups"
   ]
  },
  {
   "cell_type": "code",
   "execution_count": null,
   "metadata": {
    "collapsed": true
   },
   "outputs": [],
   "source": [
    "#how many elements compose the groups\n",
    "grouped.count()"
   ]
  },
  {
   "cell_type": "code",
   "execution_count": null,
   "metadata": {
    "collapsed": true
   },
   "outputs": [],
   "source": [
    "#Let's check how many patients are in the groups\n",
    "grouped[\"Patient\"].nunique()"
   ]
  },
  {
   "cell_type": "code",
   "execution_count": null,
   "metadata": {
    "collapsed": true
   },
   "outputs": [],
   "source": [
    "#Now let's check the data for patient08\n",
    "conds.loc[conds.Patient == \"P08\"]"
   ]
  },
  {
   "cell_type": "code",
   "execution_count": null,
   "metadata": {
    "collapsed": true
   },
   "outputs": [],
   "source": [
    "#Now let's check the data for patient08 and 12\n",
    "conds.loc[(conds.Patient == \"P08\") | (conds.Patient == \"P12\")]"
   ]
  },
  {
   "cell_type": "code",
   "execution_count": null,
   "metadata": {
    "collapsed": true
   },
   "outputs": [],
   "source": [
    "# \"|\" is the OR condition. What happens if I choose the & condition?\n",
    "conds.loc[(conds.Patient == \"P08\") & (conds.Patient == \"P12\")]"
   ]
  },
  {
   "cell_type": "code",
   "execution_count": null,
   "metadata": {
    "collapsed": true
   },
   "outputs": [],
   "source": [
    "# Nothing. Indeed, patient8 and patient12 are not the same patient\n",
    "#If I want to see the throat record for patient08\n",
    "conds.loc[(conds['Patient'] == \"P08\") & (conds['SampleType'] == \"Throat\") ]"
   ]
  },
  {
   "cell_type": "code",
   "execution_count": null,
   "metadata": {
    "collapsed": true
   },
   "outputs": [],
   "source": [
    "#PAUSE\n"
   ]
  },
  {
   "cell_type": "code",
   "execution_count": null,
   "metadata": {
    "collapsed": true
   },
   "outputs": [],
   "source": [
    "#Let's look at first 2 rows of the counts table, i.e. patient 01\n",
    "counts.head(n=2)"
   ]
  },
  {
   "cell_type": "code",
   "execution_count": null,
   "metadata": {
    "collapsed": true
   },
   "outputs": [],
   "source": [
    "#pandas makes plot really easily. We just add .plot() to the dataframe\n",
    "#(The time to display the figure depends on the computer: 5/20 seconds)\n",
    "counts.plot(kind=\"bar\", legend=False)"
   ]
  },
  {
   "cell_type": "code",
   "execution_count": null,
   "metadata": {
    "collapsed": true
   },
   "outputs": [],
   "source": [
    "#Remarks:\n",
    "#1. the counts abundance varies a lot\n",
    "#2. The numbers on the x-axis don't help identifying which is which\n",
    "\n",
    "#Let's add the sample id in the x-axis\n",
    "counts.plot(x=\"Samples\", kind=\"bar\", legend=False)"
   ]
  },
  {
   "cell_type": "code",
   "execution_count": null,
   "metadata": {
    "collapsed": true
   },
   "outputs": [],
   "source": [
    "#better but the graph is still messy. Let's make it larger\n",
    "counts.plot(x=\"Samples\", kind=\"bar\", legend=False,figsize=(16,4))"
   ]
  },
  {
   "cell_type": "code",
   "execution_count": null,
   "metadata": {
    "collapsed": true
   },
   "outputs": [],
   "source": [
    "# One answer to remark1 could be to log+1 the abundance (+1 to remove log0)\n",
    "#I have to remove the Sample column in order to be quicker. I'll put it as an index\n",
    "log_counts = np.log(indexed_counts)"
   ]
  },
  {
   "cell_type": "code",
   "execution_count": null,
   "metadata": {
    "collapsed": true
   },
   "outputs": [],
   "source": [
    "log_counts.plot(kind=\"bar\", legend=False,figsize=(16,4))"
   ]
  },
  {
   "cell_type": "code",
   "execution_count": null,
   "metadata": {
    "collapsed": true
   },
   "outputs": [],
   "source": [
    "#Let's look at patient1\n",
    "log_counts.head(n=2).plot(kind=\"bar\", legend=False,figsize=(16,4))"
   ]
  },
  {
   "cell_type": "code",
   "execution_count": null,
   "metadata": {
    "collapsed": true
   },
   "outputs": [],
   "source": [
    "#as stacked bars\n",
    "log_counts.head(n=2).plot(kind=\"bar\", legend=False,figsize=(16,4), stacked=True)"
   ]
  },
  {
   "cell_type": "code",
   "execution_count": null,
   "metadata": {
    "collapsed": true
   },
   "outputs": [],
   "source": [
    "#Let's look at the proportions: I'll divide every counts by the sum of the row ands multiply by 100\n",
    "#First, let's make a duplicate of counts, that we will call prop_counts\n",
    "prop_counts = indexed_counts.copy()\n",
    "#let's define a new column which will be the sum of all rows\n",
    "prop_counts[\"Total\"] = prop_counts.sum(axis=1)\n",
    "indexed_counts.head(n=2)"
   ]
  },
  {
   "cell_type": "code",
   "execution_count": null,
   "metadata": {
    "collapsed": true
   },
   "outputs": [],
   "source": [
    "#Before dividing by Total, we should remove any total that is zero\n",
    "prop_counts = prop_counts.loc[prop_counts['Total'] > 0]\n",
    "#Now let's divide every counts by the total value:\n",
    "prop_counts = prop_counts.div(prop_counts[\"Total\"], axis='index')\n",
    "prop_counts.head(n=2)"
   ]
  },
  {
   "cell_type": "code",
   "execution_count": null,
   "metadata": {
    "collapsed": true
   },
   "outputs": [],
   "source": [
    "#Now will multiply by a hundred\n",
    "prop_counts = prop_counts * 100\n",
    "prop_counts.head(n=2)"
   ]
  },
  {
   "cell_type": "code",
   "execution_count": null,
   "metadata": {
    "collapsed": true
   },
   "outputs": [],
   "source": [
    "#And remove the column Total that we don't need anymore\n",
    "prop_counts = prop_counts.drop('Total',1)\n",
    "prop_counts.head(n=2)"
   ]
  },
  {
   "cell_type": "code",
   "execution_count": null,
   "metadata": {
    "collapsed": true
   },
   "outputs": [],
   "source": [
    "#Let's look at patient1\n",
    "prop_counts.head(n=2).plot(kind=\"bar\", legend=False,figsize=(16,4),stacked=True)"
   ]
  },
  {
   "cell_type": "code",
   "execution_count": null,
   "metadata": {
    "collapsed": true
   },
   "outputs": [],
   "source": [
    "#Let's look at patient12\n",
    "# .loc[\"row_id\", \"column_id\"] allows you to select rows and columns\n",
    "# : means all (rows or columns)\n",
    "patient12 = prop_counts.loc['Throat_P12':'Tongue_P12', : ]\n",
    "patient12"
   ]
  },
  {
   "cell_type": "code",
   "execution_count": null,
   "metadata": {
    "collapsed": true
   },
   "outputs": [],
   "source": [
    "#Now let's represent the bacteria proportion\n",
    "patient12.plot(kind=\"bar\", legend=False,figsize=(16,4),stacked=True)"
   ]
  },
  {
   "cell_type": "code",
   "execution_count": null,
   "metadata": {
    "collapsed": true
   },
   "outputs": [],
   "source": [
    "#Not as many bacteria, right? Looks suspicious. Let's add the legend to identify the bacteria\n",
    "patient12.plot(kind=\"bar\", legend=True,figsize=(16,4),stacked=True)\n"
   ]
  },
  {
   "cell_type": "code",
   "execution_count": null,
   "metadata": {
    "collapsed": true
   },
   "outputs": [],
   "source": [
    "#awful. Pandas is good for exploring data, not the best when it goes to design. Let's apply a patch\n"
   ]
  },
  {
   "cell_type": "code",
   "execution_count": null,
   "metadata": {
    "collapsed": true
   },
   "outputs": [],
   "source": [
    "ax = patient12.plot(kind=\"bar\", legend=False,figsize=(16,4),stacked=True)\n",
    "patches, labels = ax.get_legend_handles_labels()\n",
    "ax.legend(patches, labels, loc='best', prop={'size':6})"
   ]
  },
  {
   "cell_type": "code",
   "execution_count": null,
   "metadata": {
    "collapsed": true
   },
   "outputs": [],
   "source": [
    "#Well it's not really better. Let's remove all the bacteria that don't have a count\n",
    "#Let's keep only the bacteria that do not add up to zero \n",
    "patient12_reduced = patient12.loc[ : , patient12.sum(axis=0) != 0]\n",
    "patient12_reduced"
   ]
  },
  {
   "cell_type": "code",
   "execution_count": null,
   "metadata": {
    "collapsed": true
   },
   "outputs": [],
   "source": [
    "patient12_reduced.plot(kind=\"bar\", legend=True,figsize=(16,4),stacked=True)"
   ]
  },
  {
   "cell_type": "code",
   "execution_count": null,
   "metadata": {
    "collapsed": true
   },
   "outputs": [],
   "source": [
    "#That does seem suspicious. Let's look at the count table for patient12\n",
    "counts.loc[(counts[\"Samples\"] == 'Throat_P12') | (counts[\"Samples\"] == 'Tongue_P12')]"
   ]
  },
  {
   "cell_type": "code",
   "execution_count": null,
   "metadata": {
    "collapsed": true
   },
   "outputs": [],
   "source": [
    "#The counts are quite small. Let's look at the mean values\n",
    "#The describe function will calculate a bunch of statistics\n",
    "#Note: .T. is to transpose the dataframe so we don't look at the bacteria count statistics, but at the samples\n",
    "# .astype(int) is to transform floats to integer (less messy)\n",
    "sample_statistics = indexed_counts.T.describe().astype(int)\n",
    "sample_statistics"
   ]
  },
  {
   "cell_type": "code",
   "execution_count": null,
   "metadata": {
    "collapsed": true
   },
   "outputs": [],
   "source": [
    "#Patient30 stats are way below the others. Let's look at patient12\n",
    "sample_statistics[[\"Throat_P12\",\"Tongue_P12\"]]"
   ]
  },
  {
   "cell_type": "code",
   "execution_count": null,
   "metadata": {
    "collapsed": true
   },
   "outputs": [],
   "source": [
    "#We'll come back to patients 12 and 30 later\n",
    "#Let's take patient 2. And look at the bar chart\n",
    "patient2= prop_counts.ix[2:4,]\n",
    "patient2.plot(kind='bar', legend = False)"
   ]
  },
  {
   "cell_type": "code",
   "execution_count": null,
   "metadata": {
    "collapsed": true
   },
   "outputs": [],
   "source": [
    "#We don't see the labels well enough because of the colouring.\n",
    "#Let's try to see it as a pie chart. First the throat\n",
    "\n",
    "patient2.ix[\"Throat_P02\"].plot.pie(figsize=(9, 9))"
   ]
  },
  {
   "cell_type": "code",
   "execution_count": null,
   "metadata": {
    "collapsed": true
   },
   "outputs": [],
   "source": [
    "#Now the tongue\n",
    "patient2.ix[\"Tongue_P02\"].head()\n",
    "patient2.ix[\"Tongue_P02\"].plot.pie(figsize=(9, 9))"
   ]
  },
  {
   "cell_type": "code",
   "execution_count": null,
   "metadata": {
    "collapsed": true
   },
   "outputs": [],
   "source": [
    "#together.\n",
    "#Note: I have to transpose the matrix in order to have only 2 plots\n",
    "\n",
    "patient2.T.plot.pie(subplots=True, figsize=(10, 4), legend=False)"
   ]
  },
  {
   "cell_type": "code",
   "execution_count": null,
   "metadata": {
    "collapsed": true
   },
   "outputs": [],
   "source": [
    "#Some colors are the same. Let's write a color fix\n",
    "from matplotlib.pyplot import cm \n",
    "cm_name = 'Pastel1'\n",
    "color_map = cm.get_cmap(cm_name)\n",
    "num_of_colors = len(patient2.columns)\n",
    "mycolors = color_map([x/float(num_of_colors) for x in range(num_of_colors)])"
   ]
  },
  {
   "cell_type": "code",
   "execution_count": null,
   "metadata": {
    "collapsed": true
   },
   "outputs": [],
   "source": [
    "#Now we will add the percentages inside the pie\n",
    "patient2.T.plot.pie(subplots=True, figsize=(18, 8), legend=False, colors=mycolors, autopct='%.2f', fontsize=8)"
   ]
  },
  {
   "cell_type": "code",
   "execution_count": null,
   "metadata": {
    "collapsed": true
   },
   "outputs": [],
   "source": [
    "#We could now compare the count scatter between the 2 samples\n",
    "scatter_matrix(patient2.T, figsize=(10, 10), diagonal='kde', color=mycolors)"
   ]
  },
  {
   "cell_type": "code",
   "execution_count": null,
   "metadata": {
    "collapsed": true
   },
   "outputs": [],
   "source": [
    "#The biggest difference lies in counts below 10% of total abundance\n",
    "patient2"
   ]
  },
  {
   "cell_type": "code",
   "execution_count": null,
   "metadata": {
    "collapsed": true
   },
   "outputs": [],
   "source": [
    "#We want to see more complex patterns. Let's join conditions and counts table using merge\n",
    "data = pd.merge(conds, counts, on='Samples')\n",
    "data.head(n=2)"
   ]
  },
  {
   "cell_type": "code",
   "execution_count": null,
   "metadata": {
    "collapsed": true
   },
   "outputs": [],
   "source": [
    "#Now we can create new tables depending on the question \n",
    "patients = data.groupby(\"Patient\").sum()\n",
    "patients.head()"
   ]
  },
  {
   "cell_type": "code",
   "execution_count": null,
   "metadata": {
    "collapsed": true
   },
   "outputs": [],
   "source": [
    "#Let's take a look at all the patients together\n",
    "patients.plot(kind=\"bar\", legend=False,figsize=(16,4), stacked=True)"
   ]
  },
  {
   "cell_type": "code",
   "execution_count": null,
   "metadata": {
    "collapsed": true
   },
   "outputs": [],
   "source": [
    "#Again, a huge difference in the counts between patients.\n",
    "data[data[\"Patient\"] == \"P12\"]"
   ]
  },
  {
   "cell_type": "code",
   "execution_count": null,
   "metadata": {
    "collapsed": true
   },
   "outputs": [],
   "source": [
    "#Ah! Patient12's samples are indeed problematic. They didn't pass the QC\n",
    "#Let's remove all the failed QC from data\n",
    "data = data[data[\"QC\"] != \"Failed\"]\n",
    "len(data)"
   ]
  },
  {
   "cell_type": "code",
   "execution_count": null,
   "metadata": {
    "collapsed": true
   },
   "outputs": [],
   "source": [
    "data[(data[\"Patient\"] == \"P12\") | (data[\"Patient\"] == \"P30\")]"
   ]
  },
  {
   "cell_type": "code",
   "execution_count": null,
   "metadata": {
    "collapsed": true
   },
   "outputs": [],
   "source": [
    "#Patients 12 and 30 have disappear.\n",
    "#Let's look again at the patients count stacked bars\n",
    "patients = data.groupby(\"Patient\").sum()\n",
    "patients.plot(kind=\"bar\", legend=False,figsize=(16,4), stacked=True)"
   ]
  },
  {
   "cell_type": "code",
   "execution_count": null,
   "metadata": {
    "collapsed": true
   },
   "outputs": [],
   "source": [
    "#Much better, but we still have a big difference. let's take a look at the shifted log\n",
    "log_patients = np.log(patients)"
   ]
  },
  {
   "cell_type": "code",
   "execution_count": null,
   "metadata": {
    "collapsed": true
   },
   "outputs": [],
   "source": [
    "#Satcked bars graph again\n",
    "log_patients.plot(kind=\"bar\", legend=False,figsize=(16,4), stacked=True)"
   ]
  },
  {
   "cell_type": "code",
   "execution_count": null,
   "metadata": {
    "collapsed": true
   },
   "outputs": [],
   "source": [
    "#Even better although we have to be careful\n",
    "#Let's apply the log to the data\n",
    "np.log(data)"
   ]
  },
  {
   "cell_type": "code",
   "execution_count": null,
   "metadata": {
    "collapsed": true
   },
   "outputs": [],
   "source": [
    "#The error comes from strings. We have to do a turn around.\n",
    "#Let's select in a temporary dataframe all the numeric values\n",
    "tmp = data.select_dtypes(include=[np.number])\n",
    "#Add one so the log doesn't give an infinite number\n",
    "tmp = tmp + 1 \n",
    "tmp.head()"
   ]
  },
  {
   "cell_type": "code",
   "execution_count": null,
   "metadata": {
    "collapsed": true
   },
   "outputs": [],
   "source": [
    "data_log = data.copy() \n",
    "data_log.loc[:, tmp.columns] = np.log(tmp)\n",
    "data_log.head()"
   ]
  },
  {
   "cell_type": "code",
   "execution_count": null,
   "metadata": {
    "collapsed": true
   },
   "outputs": [],
   "source": [
    "#Now let's do a  spring tension graph to see if some pattern comes out from the data\n",
    "from pandas.tools.plotting import radviz\n",
    "#We need the data in the form of \n",
    "#one variable counts counts counts counts etc...\n",
    "#Let's take the samples as variable and see how they \n",
    "data_log.head()\n",
    "samples = data_log.drop(['Patient','Cavities','SampleType','QC'],1)\n",
    "samples.head()"
   ]
  },
  {
   "cell_type": "code",
   "execution_count": null,
   "metadata": {
    "collapsed": true
   },
   "outputs": [],
   "source": [
    "radviz(samples,\"Samples\")"
   ]
  },
  {
   "cell_type": "code",
   "execution_count": null,
   "metadata": {
    "collapsed": true
   },
   "outputs": [],
   "source": [
    "#Hard to see a pattern, but that's not so anormal, we're looking at all the samples together.\n",
    "#let's look at the location : throat vs Tongue\n",
    "SampleType = data.groupby([\"SampleType\"]).sum()\n",
    "SampleType.head()"
   ]
  },
  {
   "cell_type": "code",
   "execution_count": null,
   "metadata": {
    "collapsed": true
   },
   "outputs": [],
   "source": [
    "#This is not how we want the data to be. Let's remove SAmpleType from the index\n",
    "SampleType = SampleType.reset_index(0, drop=False)\n",
    "SampleType.head()"
   ]
  },
  {
   "cell_type": "code",
   "execution_count": null,
   "metadata": {
    "collapsed": true
   },
   "outputs": [],
   "source": [
    "#Ok we can try radviz\n",
    "radviz(SampleType,\"SampleType\")"
   ]
  },
  {
   "cell_type": "code",
   "execution_count": null,
   "metadata": {
    "collapsed": true
   },
   "outputs": [],
   "source": [
    "#We do see a different pattern in the bacteria communities!\n",
    "#The problem is that we could have all the samples per patient and not all added together\n",
    "#We can do this by grouping by patients and sampleType together. Let's see\n",
    "SampleType = data.groupby([\"Patient\", \"SampleType\"]).sum()\n",
    "SampleType.head(n=2)"
   ]
  },
  {
   "cell_type": "code",
   "execution_count": null,
   "metadata": {
    "collapsed": true
   },
   "outputs": [],
   "source": [
    "#We have 2 index nested. We will remove Patient and keep SampleType\n",
    "SampleType = SampleType.reset_index(0, drop=True)\n",
    "SampleType.head(n=2)\n"
   ]
  },
  {
   "cell_type": "code",
   "execution_count": null,
   "metadata": {
    "collapsed": true
   },
   "outputs": [],
   "source": [
    "SampleType = SampleType.reset_index(0, drop=False)\n",
    "SampleType.head()"
   ]
  },
  {
   "cell_type": "code",
   "execution_count": null,
   "metadata": {
    "collapsed": true
   },
   "outputs": [],
   "source": [
    "#All right, let's try radviz\n",
    "radviz(SampleType,\"SampleType\")"
   ]
  },
  {
   "cell_type": "code",
   "execution_count": null,
   "metadata": {
    "collapsed": true
   },
   "outputs": [],
   "source": [
    "#Let's see if the cavities influence the bacterial communities in the Throat\n",
    "cavities = data_log.groupby([\"Patient\", \"SampleType\", \"Cavities\"]).sum()\n",
    "cavities.head()"
   ]
  },
  {
   "cell_type": "code",
   "execution_count": null,
   "metadata": {
    "collapsed": true
   },
   "outputs": [],
   "source": [
    "#We don't need the patient information\n",
    "cavities = cavities.reset_index(0, drop=True)\n",
    "cavities.head()"
   ]
  },
  {
   "cell_type": "code",
   "execution_count": null,
   "metadata": {
    "collapsed": true
   },
   "outputs": [],
   "source": [
    "#We will separate the Throat data from the Tongue so wee keep the indexes\n",
    "cavities=cavities.reset_index(0, drop=False)\n",
    "cavities.head()"
   ]
  },
  {
   "cell_type": "code",
   "execution_count": null,
   "metadata": {
    "collapsed": true
   },
   "outputs": [],
   "source": [
    "cavities=cavities.reset_index(0, drop=False)\n",
    "cavities.head()"
   ]
  },
  {
   "cell_type": "code",
   "execution_count": null,
   "metadata": {
    "collapsed": true
   },
   "outputs": [],
   "source": [
    "#Let's create 2 dataframe and remove the SampleType columns\n",
    "throat = cavities[cavities['SampleType'] == \"Throat\"]\n",
    "throat = throat.drop(['SampleType'],1)\n",
    "tongue = cavities[cavities[\"SampleType\"] == \"Tongue\"]\n",
    "tongue = tongue.drop(['SampleType'],1)\n",
    "tongue.head(n=3)"
   ]
  },
  {
   "cell_type": "code",
   "execution_count": null,
   "metadata": {
    "collapsed": true
   },
   "outputs": [],
   "source": [
    "#Let's radviz the throat!\n",
    "radviz(throat,\"Cavities\")"
   ]
  },
  {
   "cell_type": "code",
   "execution_count": null,
   "metadata": {
    "collapsed": true
   },
   "outputs": [],
   "source": [
    "tonguez = tongue.copy()\n",
    "tonguez = tonguez.ix[:,'Cavities':'Prevotella_maculosa']\n",
    "tonguez.head(n=30)"
   ]
  },
  {
   "cell_type": "code",
   "execution_count": null,
   "metadata": {
    "collapsed": true
   },
   "outputs": [],
   "source": [
    "#Now the tongue!\n",
    "radviz(tonguez,\"Cavities\")"
   ]
  }
 ],
 "metadata": {
  "kernelspec": {
   "display_name": "Python 2",
   "language": "python",
   "name": "python2"
  },
  "language_info": {
   "codemirror_mode": {
    "name": "ipython",
    "version": 2
   },
   "file_extension": ".py",
   "mimetype": "text/x-python",
   "name": "python",
   "nbconvert_exporter": "python",
   "pygments_lexer": "ipython2",
   "version": "2.7.10"
  }
 },
 "nbformat": 4,
 "nbformat_minor": 0
}
